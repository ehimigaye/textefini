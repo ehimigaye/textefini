{
 "cells": [
  {
   "cell_type": "code",
   "execution_count": null,
   "id": "30560fc5",
   "metadata": {},
   "outputs": [],
   "source": [
    "#essayons d abord de determiner le repertoire de travail:\n",
    "import os\n",
    "path = os.getcwd()\n",
    "print(\"Le répertoire courant est : \" + path)\n",
    "repn = os.path.basename(path)\n",
    "print(\"Le nom du répertoire est : \" + repn)"
   ]
  },
  {
   "cell_type": "code",
   "execution_count": 1,
   "id": "0a802190",
   "metadata": {},
   "outputs": [
    {
     "data": {
      "text/plain": [
       "['What is Python language?                                                \\n',\n",
       " 'Python is a widely used high-level, general-purpose, interpreted, dynamic programming language.Its design philosophy emphasizes code readability, and its syntax allows programmers to express concepts in fewer lines of code than possible in \\n',\n",
       " 'languages such as C++ or Java. \\n',\n",
       " 'Python supports multiple programming paradigms, including object-oriented, imperative and functional programming or procedural styles. It features a dynamic type system and automatic memory management and has a large and comprehensive standard library.The best way we learn anything is by practice and exercise questions. We  have started this section for those (beginner to intermediate) who are familiar with Python.']"
      ]
     },
     "execution_count": 1,
     "metadata": {},
     "output_type": "execute_result"
    }
   ],
   "source": [
    "#question 1:\n",
    "#lisons un fichier et son contenu\n",
    "f = open(\"python.txt\")\n",
    "f.readlines()\n",
    "\n",
    "\n"
   ]
  },
  {
   "cell_type": "code",
   "execution_count": 2,
   "id": "d17119d7",
   "metadata": {},
   "outputs": [
    {
     "name": "stdout",
     "output_type": "stream",
     "text": [
      "3\n",
      "['What is Python language?                                                \\n', 'Python is a widely used high-level, general-purpose, interpreted, dynamic programming language.Its design philosophy emphasizes code readability, and its syntax allows programmers to express concepts in fewer lines of code than possible in \\n', 'languages such as C++ or Java. \\n']\n"
     ]
    }
   ],
   "source": [
    "#question :2\n",
    "#lire les n premieres lignes du texte\n",
    "n = int(input())\n",
    "f = open(\"python.txt\")\n",
    "m = f.readlines()\n",
    "print(m[:n])\n",
    "f.close()"
   ]
  },
  {
   "cell_type": "code",
   "execution_count": null,
   "id": "0d524efd",
   "metadata": {},
   "outputs": [],
   "source": [
    "#question 3:\n",
    "#lire les n dernieres lignes du texte\n",
    "y  = int(input())\n",
    "f = open(\"python.txt\")\n",
    "m = f.readlines()\n",
    "print(m[y:])\n",
    "f.close()"
   ]
  },
  {
   "cell_type": "code",
   "execution_count": null,
   "id": "f36a253b",
   "metadata": {},
   "outputs": [],
   "source": [
    "#question 4:\n",
    "#creons une fonction qui donne le nombre  de mots d' un fichier text:\n",
    "f = open(\"python.txt\")#entrons le fichier\n",
    "j= f.read()#lisons le\n",
    "nombremots = 0\n",
    "mots = \" \"\n",
    "for i in j:#creons une boucles qui ajoute un a un les caracteres formons chaque mot\n",
    "    if i.isalnum():#caractere alphanumerique\n",
    "        mots += i\n",
    "    else:\n",
    "        mots +=\" \"#non alphanumerique separe les mots\n",
    "print(\"les mots du texte:\", mots)  # verifiions les mots à compter\n",
    "nombremots = len(mots.split())#mettons dans une liste\n",
    "print(\"le nombre de mots est :\",nombremots) #lataille de cette liste sera le nombre de mot\n"
   ]
  },
  {
   "cell_type": "code",
   "execution_count": null,
   "id": "f8a19064",
   "metadata": {},
   "outputs": [],
   "source": []
  }
 ],
 "metadata": {
  "kernelspec": {
   "display_name": "Python 3 (ipykernel)",
   "language": "python",
   "name": "python3"
  },
  "language_info": {
   "codemirror_mode": {
    "name": "ipython",
    "version": 3
   },
   "file_extension": ".py",
   "mimetype": "text/x-python",
   "name": "python",
   "nbconvert_exporter": "python",
   "pygments_lexer": "ipython3",
   "version": "3.9.13"
  }
 },
 "nbformat": 4,
 "nbformat_minor": 5
}
